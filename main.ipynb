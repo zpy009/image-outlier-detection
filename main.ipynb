{
 "cells": [
  {
   "cell_type": "code",
   "execution_count": 1,
   "metadata": {},
   "outputs": [],
   "source": [
    "from sklearn.preprocessing import StandardScaler\n",
    "from sklearn.model_selection import train_test_split\n",
    "from sklearn.decomposition import PCA\n",
    "from sklearn import svm\n",
    "import time\n",
    "import numpy as np\n",
    "import pandas as pd\n",
    "import matplotlib.pyplot as plt\n"
   ]
  },
  {
   "cell_type": "code",
   "execution_count": 2,
   "metadata": {},
   "outputs": [],
   "source": [
    "inlier_train = pd.read_csv('inlier.csv',header=None)\n",
    "outlier_train =  pd.read_csv('outlier.csv',header=None)\n",
    "#test =  pd.read_csv('test.csv',header=None)"
   ]
  },
  {
   "cell_type": "code",
   "execution_count": 3,
   "metadata": {},
   "outputs": [],
   "source": [
    "y_inlier=np.zeros( (inlier_train.shape[0],1), dtype=np.int16 )\n",
    "y_outlier=np.ones( (outlier_train.shape[0],1), dtype=np.int16 )"
   ]
  },
  {
   "cell_type": "code",
   "execution_count": 4,
   "metadata": {},
   "outputs": [],
   "source": [
    "X= pd.concat([inlier_train,outlier_train], axis=0)"
   ]
  },
  {
   "cell_type": "code",
   "execution_count": 5,
   "metadata": {},
   "outputs": [],
   "source": [
    "y=np.append(y_inlier,y_outlier)"
   ]
  },
  {
   "cell_type": "code",
   "execution_count": null,
   "metadata": {},
   "outputs": [],
   "source": []
  },
  {
   "cell_type": "code",
   "execution_count": 6,
   "metadata": {},
   "outputs": [],
   "source": [
    "# apply standard scaler to output from resnet50\n",
    "ss = StandardScaler()\n",
    "ss.fit(X)\n",
    "x_train = ss.transform(X)\n",
    "#test_x130 = ss.transform(test)#####小写der"
   ]
  },
  {
   "cell_type": "code",
   "execution_count": 7,
   "metadata": {},
   "outputs": [],
   "source": [
    "outlier_per=outlier_train.shape[0]/(outlier_train.shape[0]+inlier_train.shape[0])"
   ]
  },
  {
   "cell_type": "markdown",
   "metadata": {},
   "source": [
    "#  outlier= 0.07    小的x_test  是真的x_test\n",
    "####小的x_test  是真的x_test\n",
    "1.......疯狂换模型   ensemble\n",
    "\n",
    "2.....加outlier     \n"
   ]
  },
  {
   "cell_type": "code",
   "execution_count": 33,
   "metadata": {},
   "outputs": [],
   "source": [
    "#recall_score(y_true, y_pred, average='binary')\n",
    "###evaluation：：       文档里只说了是   model的 recall 跟    precision     ....没说 特指是正例.....  关注整体的accuracy   or   outlier?\n",
    "#F1    ##f1_score(y_true, y_pred, average='weighted')   \n",
    "#算了 管他呢 用官方文档score   ROC(其实我觉得他说的是AUC。。。。。0.5 是扔骰子。。。。。precision@n        )\n",
    "\n",
    "###最后还是决定加上pca   神特么也太慢了吧    \n",
    "####但是加上pca就掉了 ......慢就慢吧.... 有一个能用就成......"
   ]
  },
  {
   "cell_type": "markdown",
   "metadata": {},
   "source": [
    "# Take PCA to reduce feature space dimensionality for inlier and test\n",
    "pca = PCA(n_components=500, whiten=True)\n",
    "pca = pca.fit(inlier_train)\n",
    "print('Explained variance percentage = %0.2f' % sum(pca.explained_variance_ratio_))\n",
    "print('num_features：', pca.n_components_)\n",
    "inlier_train = pca.transform(inlier_train)\n",
    "test = pca.transform(test)"
   ]
  },
  {
   "cell_type": "code",
   "execution_count": 8,
   "metadata": {},
   "outputs": [
    {
     "name": "stderr",
     "output_type": "stream",
     "text": [
      "Using TensorFlow backend.\n"
     ]
    }
   ],
   "source": [
    "from sklearn.model_selection import KFold, cross_val_score\n",
    "from sklearn.metrics import f1_score\n",
    "from pyod.models.iforest import IForest\n",
    "from pyod.utils.data import generate_data\n",
    "from pyod.utils.data import get_color_codes\n",
    "from pyod.utils.data import evaluate_print\n",
    "from pyod.models.abod import ABOD\n",
    "from pyod.models.auto_encoder import AutoEncoder\n",
    "from pyod.models.abod import ABOD\n",
    "from pyod.models.cblof import CBLOF\n",
    "from pyod.models.feature_bagging import FeatureBagging\n",
    "from pyod.models.hbos import HBOS\n",
    "from pyod.models.iforest import IForest\n",
    "from pyod.models.knn import KNN\n",
    "from pyod.models.lof import LOF\n",
    "from pyod.models.loci import LOCI\n",
    "from pyod.models.mcd import MCD\n",
    "from pyod.models.ocsvm import OCSVM\n",
    "from pyod.models.pca import PCA\n",
    "from pyod.models.sos import SOS\n",
    "from __future__ import division\n",
    "from __future__ import print_function\n",
    "\n",
    "import os\n",
    "import sys\n",
    "\n",
    "# temporary solution for relative imports in case pyod is not installed\n",
    "# if pyod is installed, no need to use the following line\n",
    "sys.path.append(\n",
    "    os.path.abspath(os.path.join(os.path.dirname(\"__file__\"), '..')))\n",
    "\n",
    "# supress warnings for clean output\n",
    "import warnings\n",
    "\n",
    "warnings.filterwarnings(\"ignore\")\n",
    "import numpy as np\n",
    "from scipy import stats\n",
    "import matplotlib.pyplot as plt\n",
    "import matplotlib.font_manager"
   ]
  },
  {
   "cell_type": "code",
   "execution_count": 9,
   "metadata": {},
   "outputs": [],
   "source": [
    "X_train, X_test, y_train, y_test = train_test_split( x_train, y, test_size=0.3, random_state=42)"
   ]
  },
  {
   "cell_type": "code",
   "execution_count": null,
   "metadata": {},
   "outputs": [],
   "source": []
  },
  {
   "cell_type": "code",
   "execution_count": 10,
   "metadata": {},
   "outputs": [
    {
     "name": "stdout",
     "output_type": "stream",
     "text": [
      "\n",
      "On Training Data:\n",
      "IForest ROC:0.9052, precision @ rank n:0.4588\n",
      "\n",
      "On Test Data:\n",
      "IForest ROC:0.9133, precision @ rank n:0.5522\n"
     ]
    }
   ],
   "source": [
    "outliers_fraction = outlier_per  # percentage of outliers\n",
    "clf_name = 'IForest'\n",
    "clf = KNN(contamination=outliers_fraction)\n",
    "clf.fit(X_train)\n",
    "# get the prediction labels and outlier scores of the training data\n",
    "y_train_pred = clf.labels_  # binary labels (0: inliers, 1: outliers)\n",
    "y_train_scores = clf.decision_scores_  # raw outlier scores\n",
    "\n",
    "# get the prediction on the test data\n",
    "y_test_pred = clf.predict(X_test)  # outlier labels (0 or 1)\n",
    "y_test_scores = clf.decision_function(X_test)  # outlier scores\n",
    "\n",
    "# evaluate and print the results\n",
    "print(\"\\nOn Training Data:\")\n",
    "evaluate_print(clf_name, y_train, y_train_scores)\n",
    "print(\"\\nOn Test Data:\")\n",
    "evaluate_print(clf_name, y_test, y_test_scores)"
   ]
  },
  {
   "cell_type": "code",
   "execution_count": 12,
   "metadata": {},
   "outputs": [
    {
     "data": {
      "text/plain": [
       "array([[1375,   56],\n",
       "       [  63,   71]], dtype=int64)"
      ]
     },
     "execution_count": 12,
     "metadata": {},
     "output_type": "execute_result"
    }
   ],
   "source": [
    "from sklearn.metrics import confusion_matrix\n",
    "confusion_matrix(y_test,y_test_pred)"
   ]
  },
  {
   "cell_type": "code",
   "execution_count": 13,
   "metadata": {},
   "outputs": [],
   "source": [
    "random_state = np.random.RandomState(42)\n",
    "# Define nine outlier detection tools to be compared\n",
    "classifiers = {\n",
    "                # 'Angle-based Outlier Detector (ABOD)':\n",
    "                #    ABOD(contamination=outliers_fraction),\n",
    "               'Fast Angle-based Outlier Detector (FastABOD)':\n",
    "                   ABOD(contamination=outliers_fraction),\n",
    "               'Cluster-based Local Outlier Factor (CBLOF)':\n",
    "                   CBLOF(contamination=outliers_fraction,\n",
    "                         check_estimator=False, random_state=random_state),\n",
    "               'Feature Bagging':\n",
    "                   FeatureBagging(LOF(n_neighbors=35),\n",
    "                                  contamination=outliers_fraction,\n",
    "                                  check_estimator=False,\n",
    "                                  random_state=random_state),\n",
    "               'Histogram-base Outlier Detection (HBOS)': HBOS(\n",
    "                   contamination=outliers_fraction),\n",
    "               'Isolation Forest': IForest(contamination=outliers_fraction,\n",
    "                                           random_state=random_state),\n",
    "               'K Nearest Neighbors (KNN)': KNN(\n",
    "                   contamination=outliers_fraction),\n",
    "               'Average KNN': KNN(method='mean',\n",
    "                                  contamination=outliers_fraction),\n",
    "               'Median KNN': KNN(method='median',\n",
    "                                 contamination=outliers_fraction),\n",
    "               'Local Outlier Factor (LOF)':\n",
    "                   LOF(n_neighbors=35, contamination=outliers_fraction),\n",
    "               # 'Local Correlation Integral (LOCI)':\n",
    "               #     LOCI(contamination=outliers_fraction),\n",
    "              \n",
    "               'One-class SVM (OCSVM)': OCSVM(contamination=outliers_fraction,\n",
    "                                              random_state=random_state),\n",
    "               'Principal Component Analysis (PCA)': PCA(\n",
    "                   contamination=outliers_fraction, random_state=random_state),\n",
    "                'Auto encoder': AutoEncoder(epochs=30, contamination=outliers_fraction, random_state=random_state)\n",
    "               # 'Stochastic Outlier Selection (SOS)': SOS(\n",
    "               #     contamination=outliers_fraction),\n",
    "               }"
   ]
  },
  {
   "cell_type": "code",
   "execution_count": 14,
   "metadata": {},
   "outputs": [],
   "source": [
    "from sklearn.externals import joblib"
   ]
  },
  {
   "cell_type": "markdown",
   "metadata": {},
   "source": [
    "#  存一下model   mdzz"
   ]
  },
  {
   "cell_type": "code",
   "execution_count": 17,
   "metadata": {
    "scrolled": false
   },
   "outputs": [
    {
     "name": "stdout",
     "output_type": "stream",
     "text": [
      "Model 1 Fast Angle-based Outlier Detector (FastABOD)\n",
      "Model 2 K Nearest Neighbors (KNN)\n",
      "Model 3 Median KNN\n",
      "Model 4 One-class SVM (OCSVM)\n",
      "Model 5 Cluster-based Local Outlier Factor (CBLOF)\n",
      "Model 6 Average KNN\n",
      "Model 7 Principal Component Analysis (PCA)\n",
      "Model 8 Local Outlier Factor (LOF)\n",
      "Model 9 Histogram-base Outlier Detection (HBOS)\n",
      "Model 10 Isolation Forest\n",
      "Model 11 Feature Bagging\n",
      "\n",
      "1 fitting Fast Angle-based Outlier Detector (FastABOD)\n",
      "[[1335   96]\n",
      " [ 102   32]]\n",
      "\n",
      "On Training Data:\n",
      "Fast Angle-based Outlier Detector (FastABOD) ROC:0.7227, precision @ rank n:0.2007\n",
      "\n",
      "On Test Data:\n",
      "Fast Angle-based Outlier Detector (FastABOD) ROC:0.7473, precision @ rank n:0.2463\n",
      "\n",
      "2 fitting K Nearest Neighbors (KNN)\n",
      "[[1375   56]\n",
      " [  63   71]]\n",
      "\n",
      "On Training Data:\n",
      "K Nearest Neighbors (KNN) ROC:0.9052, precision @ rank n:0.4588\n",
      "\n",
      "On Test Data:\n",
      "K Nearest Neighbors (KNN) ROC:0.9133, precision @ rank n:0.5522\n",
      "\n",
      "3 fitting Median KNN\n",
      "[[1373   58]\n",
      " [  67   67]]\n",
      "\n",
      "On Training Data:\n",
      "Median KNN ROC:0.8992, precision @ rank n:0.4444\n",
      "\n",
      "On Test Data:\n",
      "Median KNN ROC:0.9074, precision @ rank n:0.5224\n",
      "\n",
      "4 fitting One-class SVM (OCSVM)\n",
      "[[1373   58]\n",
      " [  57   77]]\n",
      "\n",
      "On Training Data:\n",
      "One-class SVM (OCSVM) ROC:0.9059, precision @ rank n:0.4875\n",
      "\n",
      "On Test Data:\n",
      "One-class SVM (OCSVM) ROC:0.9122, precision @ rank n:0.5746\n",
      "\n",
      "5 fitting Cluster-based Local Outlier Factor (CBLOF)\n",
      "[[1376   55]\n",
      " [  57   77]]\n",
      "\n",
      "On Training Data:\n",
      "Cluster-based Local Outlier Factor (CBLOF) ROC:0.9069, precision @ rank n:0.509\n",
      "\n",
      "On Test Data:\n",
      "Cluster-based Local Outlier Factor (CBLOF) ROC:0.9175, precision @ rank n:0.5821\n",
      "\n",
      "6 fitting Average KNN\n",
      "[[1373   58]\n",
      " [  67   67]]\n",
      "\n",
      "On Training Data:\n",
      "Average KNN ROC:0.8976, precision @ rank n:0.448\n",
      "\n",
      "On Test Data:\n",
      "Average KNN ROC:0.907, precision @ rank n:0.5224\n",
      "\n",
      "7 fitting Principal Component Analysis (PCA)\n",
      "[[1373   58]\n",
      " [  56   78]]\n",
      "\n",
      "On Training Data:\n",
      "Principal Component Analysis (PCA) ROC:0.9096, precision @ rank n:0.5018\n",
      "\n",
      "On Test Data:\n",
      "Principal Component Analysis (PCA) ROC:0.9185, precision @ rank n:0.5746\n",
      "\n",
      "8 fitting Local Outlier Factor (LOF)\n",
      "[[1340   91]\n",
      " [  85   49]]\n",
      "\n",
      "On Training Data:\n",
      "Local Outlier Factor (LOF) ROC:0.787, precision @ rank n:0.2903\n",
      "\n",
      "On Test Data:\n",
      "Local Outlier Factor (LOF) ROC:0.7948, precision @ rank n:0.3507\n",
      "\n",
      "9 fitting Histogram-base Outlier Detection (HBOS)\n",
      "[[1366   65]\n",
      " [  68   66]]\n",
      "\n",
      "On Training Data:\n",
      "Histogram-base Outlier Detection (HBOS) ROC:0.8886, precision @ rank n:0.4552\n",
      "\n",
      "On Test Data:\n",
      "Histogram-base Outlier Detection (HBOS) ROC:0.8998, precision @ rank n:0.4925\n",
      "\n",
      "10 fitting Isolation Forest\n",
      "[[1361   70]\n",
      " [  67   67]]\n",
      "\n",
      "On Training Data:\n",
      "Isolation Forest ROC:0.8586, precision @ rank n:0.4444\n",
      "\n",
      "On Test Data:\n",
      "Isolation Forest ROC:0.8767, precision @ rank n:0.4925\n",
      "\n",
      "11 fitting Feature Bagging\n",
      "[[1341   90]\n",
      " [  86   48]]\n",
      "\n",
      "On Training Data:\n",
      "Feature Bagging ROC:0.7912, precision @ rank n:0.2975\n",
      "\n",
      "On Test Data:\n",
      "Feature Bagging ROC:0.799, precision @ rank n:0.3433\n"
     ]
    }
   ],
   "source": [
    "# Show all detectors\n",
    "for i, clf in enumerate(classifiers.keys()):\n",
    "    print('Model', i + 1, clf)\n",
    "\n",
    "# Fit the models with the generated data and\n",
    "# compare model performances\n",
    "\n",
    "models={}\n",
    "for i, (clf_name, clf) in enumerate(classifiers.items()):\n",
    "    print()\n",
    "    print(i + 1, 'fitting', clf_name)\n",
    "    # fit the data and tag outliers\n",
    "    clf.fit(X_train)\n",
    "    # get the prediction labels and outlier scores of the training data\n",
    "    y_train_pred = clf.labels_  # binary labels (0: inliers, 1: outliers)\n",
    "    y_train_scores = clf.decision_scores_  # raw outlier scores\n",
    "\n",
    "    # get the prediction on the test data\n",
    "    y_test_pred = clf.predict(X_test)  # outlier labels (0 or 1)\n",
    "    y_test_scores = clf.decision_function(X_test)  # outlier scores\n",
    "    print(confusion_matrix(y_test,y_test_pred))\n",
    "    models[clf_name]=clf\n",
    "   # joblib.dump(clf, 'model_%s.pkl' % (clf_name))\n",
    "    # evaluate and print the results\n",
    "    print(\"\\nOn Training Data:\")\n",
    "    evaluate_print(clf_name, y_train, y_train_scores)\n",
    "    print(\"\\nOn Test Data:\")\n",
    "    evaluate_print(clf_name, y_test, y_test_scores)"
   ]
  },
  {
   "cell_type": "code",
   "execution_count": 18,
   "metadata": {},
   "outputs": [],
   "source": [
    "full_test=pd.read_csv('test_full.csv',header=None)\n",
    "submission=pd.DataFrame()\n",
    "submission['ID']=full_test.iloc[:,-1]\n"
   ]
  },
  {
   "cell_type": "code",
   "execution_count": 19,
   "metadata": {},
   "outputs": [],
   "source": [
    "X_testfull=full_test.drop(columns=2048)\n",
    "#X"
   ]
  },
  {
   "cell_type": "code",
   "execution_count": 20,
   "metadata": {},
   "outputs": [],
   "source": [
    "X_testfull=ss.transform(X_testfull)"
   ]
  },
  {
   "cell_type": "code",
   "execution_count": null,
   "metadata": {},
   "outputs": [
    {
     "name": "stdout",
     "output_type": "stream",
     "text": [
      "\n",
      "1 predicting Fast Angle-based Outlier Detector (FastABOD)\n",
      "\n",
      "2 predicting K Nearest Neighbors (KNN)\n",
      "\n",
      "3 predicting Median KNN\n",
      "\n",
      "4 predicting One-class SVM (OCSVM)\n",
      "\n",
      "5 predicting Cluster-based Local Outlier Factor (CBLOF)\n",
      "\n",
      "6 predicting Average KNN\n",
      "\n",
      "7 predicting Principal Component Analysis (PCA)\n",
      "\n",
      "8 predicting Local Outlier Factor (LOF)\n"
     ]
    }
   ],
   "source": [
    "for i, (clf_name, clf) in enumerate(classifiers.items()):\n",
    "    print()\n",
    "    print(i + 1, 'predicting', clf_name)\n",
    "    model= joblib.load('model_%s.pkl' % (clf_name))\n",
    "    y_test_pred = model.predict(X_testfull) \n",
    "    y_test_scores = model.decision_function(X_testfull)\n",
    "    submission[clf_name]=y_test_pred\n",
    "submission.to_csv('submission.csv',index=False)"
   ]
  },
  {
   "cell_type": "code",
   "execution_count": null,
   "metadata": {},
   "outputs": [],
   "source": [
    "submission.to_csv('submission.csv',index=False)"
   ]
  },
  {
   "cell_type": "code",
   "execution_count": null,
   "metadata": {},
   "outputs": [],
   "source": [
    "outlier_per"
   ]
  },
  {
   "cell_type": "code",
   "execution_count": null,
   "metadata": {},
   "outputs": [],
   "source": []
  }
 ],
 "metadata": {
  "kernelspec": {
   "display_name": "Python 3",
   "language": "python",
   "name": "python3"
  },
  "language_info": {
   "codemirror_mode": {
    "name": "ipython",
    "version": 3
   },
   "file_extension": ".py",
   "mimetype": "text/x-python",
   "name": "python",
   "nbconvert_exporter": "python",
   "pygments_lexer": "ipython3",
   "version": "3.5.6"
  },
  "varInspector": {
   "cols": {
    "lenName": 16,
    "lenType": 16,
    "lenVar": 40
   },
   "kernels_config": {
    "python": {
     "delete_cmd_postfix": "",
     "delete_cmd_prefix": "del ",
     "library": "var_list.py",
     "varRefreshCmd": "print(var_dic_list())"
    },
    "r": {
     "delete_cmd_postfix": ") ",
     "delete_cmd_prefix": "rm(",
     "library": "var_list.r",
     "varRefreshCmd": "cat(var_dic_list()) "
    }
   },
   "oldHeight": 206.656666,
   "position": {
    "height": "40px",
    "left": "688px",
    "right": "20px",
    "top": "121px",
    "width": "575.99px"
   },
   "types_to_exclude": [
    "module",
    "function",
    "builtin_function_or_method",
    "instance",
    "_Feature"
   ],
   "varInspector_section_display": "none",
   "window_display": true
  }
 },
 "nbformat": 4,
 "nbformat_minor": 2
}
